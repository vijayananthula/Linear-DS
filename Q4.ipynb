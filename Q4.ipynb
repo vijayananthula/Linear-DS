{
 "cells": [
  {
   "cell_type": "code",
   "execution_count": 1,
   "id": "ef303920",
   "metadata": {},
   "outputs": [
    {
     "name": "stdout",
     "output_type": "stream",
     "text": [
      "The first non-repeated character in the string is: h\n"
     ]
    }
   ],
   "source": [
    "from collections import OrderedDict\n",
    "\n",
    "def first_non_repeated_character(string):\n",
    "    ordered_dict = OrderedDict()\n",
    "    for char in string:\n",
    "        ordered_dict[char] = ordered_dict.get(char, 0) + 1\n",
    "\n",
    "    for key, value in ordered_dict.items():\n",
    "        if value == 1:\n",
    "            return key\n",
    "\n",
    "    return None\n",
    "\n",
    "# Example usage\n",
    "input_string = \"hello\"\n",
    "result = first_non_repeated_character(input_string)\n",
    "if result:\n",
    "    print(f\"The first non-repeated character in the string is: {result}\")\n",
    "else:\n",
    "    print(\"There is no non-repeated character in the string.\")"
   ]
  },
  {
   "cell_type": "code",
   "execution_count": null,
   "id": "18f9fe5d",
   "metadata": {},
   "outputs": [],
   "source": []
  }
 ],
 "metadata": {
  "kernelspec": {
   "display_name": "Python 3 (ipykernel)",
   "language": "python",
   "name": "python3"
  },
  "language_info": {
   "codemirror_mode": {
    "name": "ipython",
    "version": 3
   },
   "file_extension": ".py",
   "mimetype": "text/x-python",
   "name": "python",
   "nbconvert_exporter": "python",
   "pygments_lexer": "ipython3",
   "version": "3.9.13"
  }
 },
 "nbformat": 4,
 "nbformat_minor": 5
}
