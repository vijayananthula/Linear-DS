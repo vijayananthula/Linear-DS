{
 "cells": [
  {
   "cell_type": "code",
   "execution_count": 1,
   "id": "a5aa082c",
   "metadata": {},
   "outputs": [
    {
     "name": "stdout",
     "output_type": "stream",
     "text": [
      "The two strings are rotations of each other.\n"
     ]
    }
   ],
   "source": [
    "def are_rotations(string1, string2):\n",
    "    if len(string1) != len(string2):\n",
    "        return False\n",
    "    temp = string1 + string1\n",
    "    if string2 in temp:\n",
    "        return True\n",
    "    else:\n",
    "        return False\n",
    "\n",
    "# Example usage\n",
    "string1 = \"rotation\"\n",
    "string2 = \"tionrota\"\n",
    "if are_rotations(string1, string2):\n",
    "    print(\"The two strings are rotations of each other.\")\n",
    "else:\n",
    "    print(\"The two strings are not rotations of each other.\")"
   ]
  },
  {
   "cell_type": "code",
   "execution_count": null,
   "id": "6a68f59c",
   "metadata": {},
   "outputs": [],
   "source": []
  }
 ],
 "metadata": {
  "kernelspec": {
   "display_name": "Python 3 (ipykernel)",
   "language": "python",
   "name": "python3"
  },
  "language_info": {
   "codemirror_mode": {
    "name": "ipython",
    "version": 3
   },
   "file_extension": ".py",
   "mimetype": "text/x-python",
   "name": "python",
   "nbconvert_exporter": "python",
   "pygments_lexer": "ipython3",
   "version": "3.9.13"
  }
 },
 "nbformat": 4,
 "nbformat_minor": 5
}
