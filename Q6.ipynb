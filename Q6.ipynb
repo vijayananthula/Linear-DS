{
 "cells": [
  {
   "cell_type": "code",
   "execution_count": 1,
   "id": "16537135",
   "metadata": {},
   "outputs": [
    {
     "name": "stdout",
     "output_type": "stream",
     "text": [
      "Prefix expression: *+ab*c+de\n"
     ]
    }
   ],
   "source": [
    "def is_operator(character):\n",
    "    operators = set(['+', '-', '*', '/'])\n",
    "    return character in operators\n",
    "\n",
    "def postfix_to_prefix(expression):\n",
    "    stack = []\n",
    "    for char in expression:\n",
    "        if is_operator(char):\n",
    "            operand2 = stack.pop()\n",
    "            operand1 = stack.pop()\n",
    "            new_exp = char + operand1 + operand2\n",
    "            stack.append(new_exp)\n",
    "        else:\n",
    "            stack.append(char)\n",
    "    return stack.pop()\n",
    "\n",
    "# Example usage\n",
    "postfix_expression = \"ab+cde+**\"\n",
    "prefix_expression = postfix_to_prefix(postfix_expression)\n",
    "print(f\"Prefix expression: {prefix_expression}\")"
   ]
  },
  {
   "cell_type": "code",
   "execution_count": null,
   "id": "847dd21e",
   "metadata": {},
   "outputs": [],
   "source": []
  }
 ],
 "metadata": {
  "kernelspec": {
   "display_name": "Python 3 (ipykernel)",
   "language": "python",
   "name": "python3"
  },
  "language_info": {
   "codemirror_mode": {
    "name": "ipython",
    "version": 3
   },
   "file_extension": ".py",
   "mimetype": "text/x-python",
   "name": "python",
   "nbconvert_exporter": "python",
   "pygments_lexer": "ipython3",
   "version": "3.9.13"
  }
 },
 "nbformat": 4,
 "nbformat_minor": 5
}
