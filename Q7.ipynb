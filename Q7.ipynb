{
 "cells": [
  {
   "cell_type": "code",
   "execution_count": 4,
   "id": "7d3094ac",
   "metadata": {},
   "outputs": [
    {
     "name": "stdout",
     "output_type": "stream",
     "text": [
      "Infix expression: (((a+b)*c)*(d+e))\n"
     ]
    }
   ],
   "source": [
    "def is_operator(character):\n",
    "    operators = set(['+', '-', '*', '/'])\n",
    "    return character in operators\n",
    "\n",
    "def convert_prefix_to_infix(prefix):\n",
    "    stack = []\n",
    "\n",
    "    for i in range(len(prefix) - 1, -1, -1):\n",
    "        if is_operator(prefix[i]):\n",
    "            operand1 = stack.pop()\n",
    "            operand2 = stack.pop()\n",
    "            expression = \"(\" + operand1 + prefix[i] + operand2 + \")\"\n",
    "            stack.append(expression)\n",
    "        else:\n",
    "            stack.append(prefix[i])\n",
    "\n",
    "    return stack.pop()\n",
    "# Example usage\n",
    "prefix_expression = \"**+abc+de\"\n",
    "infix_expression = convert_prefix_to_infix(prefix_expression)\n",
    "print(f\"Infix expression: {infix_expression}\")"
   ]
  },
  {
   "cell_type": "code",
   "execution_count": null,
   "id": "b5853a9e",
   "metadata": {},
   "outputs": [],
   "source": []
  },
  {
   "cell_type": "code",
   "execution_count": null,
   "id": "8beae8dd",
   "metadata": {},
   "outputs": [],
   "source": []
  }
 ],
 "metadata": {
  "kernelspec": {
   "display_name": "Python 3 (ipykernel)",
   "language": "python",
   "name": "python3"
  },
  "language_info": {
   "codemirror_mode": {
    "name": "ipython",
    "version": 3
   },
   "file_extension": ".py",
   "mimetype": "text/x-python",
   "name": "python",
   "nbconvert_exporter": "python",
   "pygments_lexer": "ipython3",
   "version": "3.9.13"
  }
 },
 "nbformat": 4,
 "nbformat_minor": 5
}
