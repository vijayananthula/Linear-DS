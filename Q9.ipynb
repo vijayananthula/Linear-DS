{
 "cells": [
  {
   "cell_type": "code",
   "execution_count": 2,
   "id": "0d2add5e",
   "metadata": {},
   "outputs": [
    {
     "name": "stdout",
     "output_type": "stream",
     "text": [
      "Original Stack: [1, 2, 3, 4]\n",
      "Reversed Stack: [1, 2, 3, 4]\n"
     ]
    }
   ],
   "source": [
    "class Stack:\n",
    "    def __init__(self):\n",
    "        self.items = []\n",
    "\n",
    "    def is_empty(self):\n",
    "        return len(self.items) == 0\n",
    "\n",
    "    def push(self, item):\n",
    "        self.items.append(item)\n",
    "\n",
    "    def pop(self):\n",
    "        if not self.is_empty():\n",
    "            return self.items.pop()\n",
    "        else:\n",
    "            raise IndexError(\"pop from an empty stack\")\n",
    "\n",
    "    def peek(self):\n",
    "        if not self.is_empty():\n",
    "            return self.items[-1]\n",
    "        else:\n",
    "            return None\n",
    "\n",
    "    def size(self):\n",
    "        return len(self.items)\n",
    "\n",
    "def reverse_stack(input_stack):\n",
    "    aux_stack = Stack()\n",
    "\n",
    "    # Push all elements from the input stack to the auxiliary stack\n",
    "    while not input_stack.is_empty():\n",
    "        aux_stack.push(input_stack.pop())\n",
    "\n",
    "    # Copy the reversed elements back to the input stack\n",
    "    while not aux_stack.is_empty():\n",
    "        input_stack.push(aux_stack.pop())\n",
    "\n",
    "# Example usage:\n",
    "input_stack = Stack()\n",
    "input_stack.push(1)\n",
    "input_stack.push(2)\n",
    "input_stack.push(3)\n",
    "input_stack.push(4)\n",
    "\n",
    "print(\"Original Stack:\", input_stack.items)\n",
    "reverse_stack(input_stack)\n",
    "print(\"Reversed Stack:\", input_stack.items)\n"
   ]
  },
  {
   "cell_type": "code",
   "execution_count": null,
   "id": "8a3f798f",
   "metadata": {},
   "outputs": [],
   "source": []
  }
 ],
 "metadata": {
  "kernelspec": {
   "display_name": "Python 3 (ipykernel)",
   "language": "python",
   "name": "python3"
  },
  "language_info": {
   "codemirror_mode": {
    "name": "ipython",
    "version": 3
   },
   "file_extension": ".py",
   "mimetype": "text/x-python",
   "name": "python",
   "nbconvert_exporter": "python",
   "pygments_lexer": "ipython3",
   "version": "3.9.13"
  }
 },
 "nbformat": 4,
 "nbformat_minor": 5
}
