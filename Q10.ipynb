{
 "cells": [
  {
   "cell_type": "code",
   "execution_count": 3,
   "id": "9e6c50af",
   "metadata": {},
   "outputs": [
    {
     "name": "stdout",
     "output_type": "stream",
     "text": [
      "Smallest number: 1\n",
      "Smallest number: 2\n"
     ]
    }
   ],
   "source": [
    "class MinStack:\n",
    "    def __init__(self):\n",
    "        self.stack = []  # Main stack to store elements\n",
    "        self.min_stack = []  # Auxiliary stack to store minimum values\n",
    "\n",
    "    def push(self, value):\n",
    "        self.stack.append(value)\n",
    "        if not self.min_stack or value <= self.min_stack[-1]:\n",
    "            self.min_stack.append(value)\n",
    "\n",
    "    def pop(self):\n",
    "        if self.stack:\n",
    "            if self.stack[-1] == self.min_stack[-1]:\n",
    "                self.min_stack.pop()\n",
    "            self.stack.pop()\n",
    "\n",
    "    def get_min(self):\n",
    "        if self.min_stack:\n",
    "            return self.min_stack[-1]\n",
    "        else:\n",
    "            return None\n",
    "\n",
    "# Example usage:\n",
    "min_stack = MinStack()\n",
    "min_stack.push(5)\n",
    "min_stack.push(2)\n",
    "min_stack.push(8)\n",
    "min_stack.push(1)\n",
    "\n",
    "print(\"Smallest number:\", min_stack.get_min())  # Output: Smallest number: 1\n",
    "\n",
    "min_stack.pop()\n",
    "min_stack.pop()\n",
    "\n",
    "print(\"Smallest number:\", min_stack.get_min())  # Output: Smallest number: 2\n"
   ]
  },
  {
   "cell_type": "code",
   "execution_count": null,
   "id": "9cbcbdc0",
   "metadata": {},
   "outputs": [],
   "source": []
  }
 ],
 "metadata": {
  "kernelspec": {
   "display_name": "Python 3 (ipykernel)",
   "language": "python",
   "name": "python3"
  },
  "language_info": {
   "codemirror_mode": {
    "name": "ipython",
    "version": 3
   },
   "file_extension": ".py",
   "mimetype": "text/x-python",
   "name": "python",
   "nbconvert_exporter": "python",
   "pygments_lexer": "ipython3",
   "version": "3.9.13"
  }
 },
 "nbformat": 4,
 "nbformat_minor": 5
}
